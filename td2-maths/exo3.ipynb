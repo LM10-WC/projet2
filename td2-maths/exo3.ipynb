{
 "cells": [
  {
   "cell_type": "code",
   "execution_count": 2,
   "id": "f60026b5-98cc-48ee-bfb4-578b0926caa5",
   "metadata": {},
   "outputs": [
    {
     "name": "stdin",
     "output_type": "stream",
     "text": [
      "Entrez le nombre de lancers de la pièce :  2\n"
     ]
    },
    {
     "name": "stdout",
     "output_type": "stream",
     "text": [
      "\n",
      "Nombre de 'Pile' : 1\n",
      "Nombre de 'Face' : 1\n",
      "\n",
      "Les résultats ont été enregistrés dans 'resultats_lancers.json'.\n"
     ]
    }
   ],
   "source": [
    "import json\n",
    "import random\n",
    "\n",
    "# Demander à l'utilisateur le nombre de lancers\n",
    "nb_lancers = int(input(\"Entrez le nombre de lancers de la pièce : \"))\n",
    "\n",
    "# Simulation des lancers\n",
    "resultats = {\"Pile\": 0, \"Face\": 0, \"Lancers\": []}\n",
    "\n",
    "for _ in range(nb_lancers):\n",
    "    resultat = random.choice([\"Pile\", \"Face\"])\n",
    "    resultats[\"Lancers\"].append(resultat)\n",
    "    resultats[resultat] += 1\n",
    "\n",
    "# Enregistrement des résultats dans un fichier JSON\n",
    "with open(\"resultats_lancers.json\", \"w\") as fichier_json:\n",
    "    json.dump(resultats, fichier_json, indent=4)\n",
    "\n",
    "# Affichage des résultats\n",
    "print(f\"\\nNombre de 'Pile' : {resultats['Pile']}\")\n",
    "print(f\"Nombre de 'Face' : {resultats['Face']}\")\n",
    "\n",
    "print(\"\\nLes résultats ont été enregistrés dans 'resultats_lancers.json'.\")\n"
   ]
  },
  {
   "cell_type": "code",
   "execution_count": null,
   "id": "46940a43-de23-4ded-9573-8b1e47de7019",
   "metadata": {},
   "outputs": [],
   "source": []
  }
 ],
 "metadata": {
  "kernelspec": {
   "display_name": "Python 3 (ipykernel)",
   "language": "python",
   "name": "python3"
  },
  "language_info": {
   "codemirror_mode": {
    "name": "ipython",
    "version": 3
   },
   "file_extension": ".py",
   "mimetype": "text/x-python",
   "name": "python",
   "nbconvert_exporter": "python",
   "pygments_lexer": "ipython3",
   "version": "3.13.3"
  }
 },
 "nbformat": 4,
 "nbformat_minor": 5
}
